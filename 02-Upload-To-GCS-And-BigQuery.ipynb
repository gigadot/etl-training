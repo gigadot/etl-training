{
 "cells": [
  {
   "cell_type": "markdown",
   "id": "b599f219-9c36-4281-a492-3ccc6739287f",
   "metadata": {},
   "source": [
    "## Upload Data to GCS and Load Data to BigQuery\n",
    "\n",
    "### Step 1 - Install Libraries"
   ]
  },
  {
   "cell_type": "code",
   "execution_count": null,
   "id": "1bd30ea4-5a9d-48e7-a224-dd69fe80f36e",
   "metadata": {},
   "outputs": [],
   "source": [
    "!pip install gcloud google-cloud-storage google-cloud-bigquery"
   ]
  },
  {
   "cell_type": "markdown",
   "id": "8774cfbd-527e-4c1c-88ea-df0a9096f7fa",
   "metadata": {},
   "source": [
    "### Step 2 - Import Libraries and Setup Google Service Account"
   ]
  },
  {
   "cell_type": "code",
   "execution_count": null,
   "id": "ef9bd91e-6059-4a72-aeba-5c5ed5d9c6e6",
   "metadata": {},
   "outputs": [],
   "source": [
    "from google.api_core.exceptions import NotFound\n",
    "from google.cloud import storage\n",
    "from google.cloud import bigquery\n",
    "\n",
    "GCP_SERVICE_ACCOUNT_JSON = \"secret/etl-training-427511-8a5bde222176.json\""
   ]
  },
  {
   "cell_type": "markdown",
   "id": "fc5d2303-8125-47dc-a253-1cd7f2ca6903",
   "metadata": {},
   "source": [
    "### Step 3 - Upload CSV to GCS"
   ]
  },
  {
   "cell_type": "code",
   "execution_count": null,
   "id": "91d215bb-db4d-4fd7-b937-c2aaf1f09c79",
   "metadata": {},
   "outputs": [],
   "source": [
    "bucket_name = \"muic-etl\"\n",
    "file_path = \"generated/exam_grades-from-db-tf.csv\"\n",
    "destination_path = \"data/exam_grades-from-db-tf.csv\""
   ]
  },
  {
   "cell_type": "code",
   "execution_count": null,
   "id": "0e139d59-24ff-4956-ab43-383414930296",
   "metadata": {},
   "outputs": [],
   "source": [
    "storage_client = storage.Client.from_service_account_json(GCP_SERVICE_ACCOUNT_JSON)\n",
    "bucket = storage_client.bucket(bucket_name)\n",
    "blob = bucket.blob(destination_path)\n",
    "blob.upload_from_filename(file_path)\n",
    "print(f\"File {file_path} uploaded to {destination_path} in bucket {bucket_name}.\")"
   ]
  },
  {
   "cell_type": "markdown",
   "id": "9c615fae-547c-49b5-bfdc-86d05cdc1648",
   "metadata": {},
   "source": [
    "### Step 4 - Load Data to BigQuery (Autodetect Schema)"
   ]
  },
  {
   "cell_type": "code",
   "execution_count": null,
   "id": "7b729fbe-ed7d-40b2-9a9e-102e53381eea",
   "metadata": {},
   "outputs": [],
   "source": [
    "client = bigquery.Client.from_service_account_json(GCP_SERVICE_ACCOUNT_JSON)\n",
    "source_uri = f\"gs://{bucket_name}/{destination_path}\"\n",
    "dataset_id = \"exam\""
   ]
  },
  {
   "cell_type": "code",
   "execution_count": null,
   "id": "09e3a282-69d4-4d6c-acc5-cb5f8734bfd4",
   "metadata": {},
   "outputs": [],
   "source": [
    "# try getting the dataset and create if missing\n",
    "try:\n",
    "    dataset_ref = client.get_dataset(dataset_id)\n",
    "except NotFound as e:\n",
    "    # requires bigquery.datasets.create permission\n",
    "    dataset_ref = client.create_dataset(dataset_id)"
   ]
  },
  {
   "cell_type": "code",
   "execution_count": null,
   "id": "d9686fc1-341b-4cfc-98ed-586db986b609",
   "metadata": {},
   "outputs": [],
   "source": [
    "# try getting the table and empty it if exists\n",
    "table_autodetect_id = \"exam_grades_autodetect\"\n",
    "\n",
    "table_autodetect_ref = dataset_ref.table(table_autodetect_id)\n",
    "try:\n",
    "    table_autodetect = client.get_table(table_autodetect_ref)\n",
    "    print(f\"Table {table_autodetect_id} contains {table_autodetect.num_rows} rows.\")\n",
    "    \n",
    "    print(f\"Deleting table {table_autodetect_id}...\")\n",
    "    client.delete_table(table_autodetect_ref)\n",
    "except NotFound as e:\n",
    "    pass"
   ]
  },
  {
   "cell_type": "code",
   "execution_count": null,
   "id": "ad05db74-5368-42dc-80b9-db2058c64663",
   "metadata": {},
   "outputs": [],
   "source": [
    "job_config = bigquery.LoadJobConfig(\n",
    "    autodetect=True,\n",
    "    skip_leading_rows=1,\n",
    "    # The source format defaults to CSV, so the line below is optional.\n",
    "    source_format=bigquery.SourceFormat.CSV,\n",
    ")\n",
    "\n",
    "# Make an API request.\n",
    "load_job = client.load_table_from_uri(\n",
    "    source_uri, table_autodetect_ref, job_config=job_config\n",
    ")\n",
    "\n",
    "# Waits for the job to complete.\n",
    "load_job.result()\n",
    "\n",
    "destination_table = client.get_table(table_autodetect_ref)\n",
    "print(\"Loaded {} rows.\".format(destination_table.num_rows))"
   ]
  },
  {
   "cell_type": "markdown",
   "id": "e13a3059-af87-4073-a2c3-1d49107457b2",
   "metadata": {},
   "source": [
    "### Step 5 - Load Data to BigQuery (Custom Schema)"
   ]
  },
  {
   "cell_type": "code",
   "execution_count": null,
   "id": "e2fae844-13b9-4a57-a09e-1d3348edcf87",
   "metadata": {},
   "outputs": [],
   "source": [
    "# try getting the table and empty it if exists\n",
    "table_custom_id = \"exam_grades_custom\"\n",
    "\n",
    "table_custom_ref = dataset_ref.table(table_custom_id)\n",
    "try:\n",
    "    table_custom = client.get_table(table_custom_ref)\n",
    "    print(f\"Table {table_custom_id} contains {table_custom.num_rows} rows.\")\n",
    "    \n",
    "    print(f\"Deleting table {table_custom_id}...\")\n",
    "    client.delete_table(table_custom_ref)\n",
    "except NotFound as e:\n",
    "    pass"
   ]
  },
  {
   "cell_type": "code",
   "execution_count": null,
   "id": "e8cf1b55-95a8-4511-96e0-49b18c17f768",
   "metadata": {},
   "outputs": [],
   "source": [
    "# https://cloud.google.com/bigquery/docs/samples/bigquery-load-table-gcs-csv\n",
    "# https://cloud.google.com/bigquery/docs/reference/rest/v2/tables#TableFieldSchema.FIELDS.type\n",
    "\n",
    "job_config = bigquery.LoadJobConfig(\n",
    "    schema=[\n",
    "        bigquery.SchemaField(\"year\", \"INTEGER\"),\n",
    "        bigquery.SchemaField(\"term\", \"INTEGER\"),\n",
    "        bigquery.SchemaField(\"gender\", \"STRING\"),\n",
    "        bigquery.SchemaField(\"exam1\", \"NUMERIC\"),\n",
    "        bigquery.SchemaField(\"exam2\", \"NUMERIC\"),\n",
    "        bigquery.SchemaField(\"exam3\", \"NUMERIC\"),\n",
    "        bigquery.SchemaField(\"course_grade\", \"NUMERIC\"),\n",
    "    ],\n",
    "    skip_leading_rows=1,\n",
    "    # The source format defaults to CSV, so the line below is optional.\n",
    "    source_format=bigquery.SourceFormat.CSV,\n",
    ")\n",
    "\n",
    "# Make an API request.\n",
    "load_job = client.load_table_from_uri(\n",
    "    source_uri, table_custom_ref, job_config=job_config\n",
    ")\n",
    "\n",
    "# Waits for the job to complete.\n",
    "load_job.result()\n",
    "\n",
    "destination_table = client.get_table(table_custom_ref)\n",
    "print(\"Loaded {} rows.\".format(destination_table.num_rows))"
   ]
  },
  {
   "cell_type": "markdown",
   "id": "a39bd7ca-8caf-4316-9dca-e8b1f2f2d875",
   "metadata": {},
   "source": [
    "### Step 6 - Load Data to BigQuery (Truncate Before Update)"
   ]
  },
  {
   "cell_type": "code",
   "execution_count": null,
   "id": "174a077d-5c9a-43e5-8465-2f3afe4b3fae",
   "metadata": {},
   "outputs": [],
   "source": [
    "job_config = bigquery.LoadJobConfig(\n",
    "    write_disposition=bigquery.WriteDisposition.WRITE_TRUNCATE,\n",
    "    skip_leading_rows=1,\n",
    "    # The source format defaults to CSV, so the line below is optional.\n",
    "    source_format=bigquery.SourceFormat.CSV,\n",
    ")\n",
    "\n",
    "# Make an API request.\n",
    "load_job = client.load_table_from_uri(\n",
    "    source_uri, table_custom_ref, job_config=job_config\n",
    ")\n",
    "\n",
    "# Waits for the job to complete.\n",
    "load_job.result()\n",
    "\n",
    "destination_table = client.get_table(table_custom_ref)\n",
    "print(\"Loaded {} rows.\".format(destination_table.num_rows))"
   ]
  }
 ],
 "metadata": {
  "kernelspec": {
   "display_name": "Python 3 (ipykernel)",
   "language": "python",
   "name": "python3"
  },
  "language_info": {
   "codemirror_mode": {
    "name": "ipython",
    "version": 3
   },
   "file_extension": ".py",
   "mimetype": "text/x-python",
   "name": "python",
   "nbconvert_exporter": "python",
   "pygments_lexer": "ipython3",
   "version": "3.11.6"
  }
 },
 "nbformat": 4,
 "nbformat_minor": 5
}
