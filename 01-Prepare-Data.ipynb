{
 "cells": [
  {
   "cell_type": "markdown",
   "id": "8ea81aa4-bf78-471b-80dd-bb46b56e3224",
   "metadata": {},
   "source": [
    "# Extract and Transform Data From Database\n",
    "\n",
    "### Step 1 - Running Database (Postgres) with Docker\n",
    "\n",
    "```bash\n",
    "docker run --env=POSTGRES_PASSWORD=devpass --env=POSTGRES_USER=etl --env=POSTGRES_DB=etl -p 5432:5432 -d postgres:12.16\n",
    "```"
   ]
  },
  {
   "cell_type": "markdown",
   "id": "e3b2ca87-18d9-4d41-bdef-bde098bbbed5",
   "metadata": {},
   "source": [
    "### Step 2 - Install and Import postgres library"
   ]
  },
  {
   "cell_type": "code",
   "execution_count": null,
   "id": "118ff0b3-cce6-4d8f-b42b-a10b158cdd4d",
   "metadata": {},
   "outputs": [],
   "source": [
    "# Only need to run it once for the whole project\n",
    "!pip install psycopg2-binary"
   ]
  },
  {
   "cell_type": "code",
   "execution_count": null,
   "id": "f3b69c46-2d9f-4c98-b41a-f4798203a784",
   "metadata": {},
   "outputs": [],
   "source": [
    "import psycopg2"
   ]
  },
  {
   "cell_type": "code",
   "execution_count": null,
   "id": "b2124478-1d53-4023-b8ef-ebf618335dee",
   "metadata": {},
   "outputs": [],
   "source": [
    "import os\n",
    "\n",
    "# make directory generated for generated data\n",
    "os.makedirs(\"generated\", exist_ok=True)"
   ]
  },
  {
   "cell_type": "markdown",
   "id": "8a663225-4677-4a05-b9f9-73133b8a7ee1",
   "metadata": {},
   "source": [
    "### Step 3 - Connect to Postgres Database"
   ]
  },
  {
   "cell_type": "code",
   "execution_count": null,
   "id": "9de6e589-1fd1-401b-a4b4-f8e7091e87a5",
   "metadata": {},
   "outputs": [],
   "source": [
    "# create a connection to postgres database\n",
    "conn = psycopg2.connect(\n",
    "    host=\"172.17.0.1\",\n",
    "    database=\"etl\",\n",
    "    user=\"etl\",\n",
    "    password=\"devpass\",\n",
    "    port=5432\n",
    ")"
   ]
  },
  {
   "cell_type": "markdown",
   "id": "d0d2c89d-95c7-45f3-b3c1-83f9a5e3bbfd",
   "metadata": {},
   "source": [
    "### Step 4 - Initializing Mock Database (Optional)"
   ]
  },
  {
   "cell_type": "code",
   "execution_count": null,
   "id": "dfb8f447-dea2-40b6-a56e-be9c518930a0",
   "metadata": {},
   "outputs": [],
   "source": [
    "# create an exam_grades table if missing\n",
    "with conn.cursor() as cur:\n",
    "    cur.execute(\"\"\"\n",
    "CREATE TABLE IF NOT EXISTS \"public\".\"exam_grades\" (\n",
    "  \"semester\" varchar(255),\n",
    "  \"sex\" varchar(255),\n",
    "  \"exam1\" numeric,\n",
    "  \"exam2\" numeric,\n",
    "  \"exam3\" numeric,\n",
    "  \"course_grade\" numeric\n",
    ")\"\"\")\n",
    "    conn.commit()"
   ]
  },
  {
   "cell_type": "code",
   "execution_count": null,
   "id": "8891728f-795a-43b4-afe7-55637fde2e92",
   "metadata": {},
   "outputs": [],
   "source": [
    "# load data from csv to database\n",
    "with conn.cursor() as cur:\n",
    "    with open(\"data/exam_grades.csv\", \"r\") as f:\n",
    "        # skip header\n",
    "        next(f)\n",
    "        cur.copy_from(f, \"exam_grades\", sep=\",\")\n",
    "        conn.commit()"
   ]
  },
  {
   "cell_type": "markdown",
   "id": "195b8fe4-37a4-4e0b-b4b0-c91010f4fe58",
   "metadata": {},
   "source": [
    "### Step 5 - Reading Data and Write to CSV (Extract but No Transform)"
   ]
  },
  {
   "cell_type": "code",
   "execution_count": null,
   "id": "70aaa532-2857-44f3-856c-a306a45435ce",
   "metadata": {},
   "outputs": [],
   "source": [
    "# select all rows from exam_grades table and export to csv\n",
    "with conn.cursor() as cur:\n",
    "    cur.execute(\"SELECT * FROM exam_grades\")\n",
    "    with open(\"generated/exam_grades-from-db.csv\", \"w\") as f:\n",
    "        # write csv header\n",
    "        f.write(\"semester,sex,exam1,exam2,exam3,course_grade\\n\")\n",
    "        for row in cur:\n",
    "            row = list(row)\n",
    "            f.write(\",\".join(str(cell) for cell in row) + \"\\n\")\n"
   ]
  },
  {
   "cell_type": "markdown",
   "id": "c2ccdf5e-4ba9-4d3b-b65a-5104e3f9d0d3",
   "metadata": {},
   "source": [
    "### Step 6 - Reading Data and Write to CSV (Extract and Transform)"
   ]
  },
  {
   "cell_type": "code",
   "execution_count": null,
   "id": "c68c5469-b578-44ba-b5a8-ab9d349f1eb1",
   "metadata": {},
   "outputs": [],
   "source": [
    "# Extract and Transform\n",
    "with conn.cursor() as cur:\n",
    "    cur.execute(\"SELECT * FROM exam_grades\")\n",
    "    with open(\"generated/exam_grades-from-db-tf.csv\", \"w\") as f:\n",
    "        # write csv header\n",
    "        f.write(\"year,term,gender,exam1,exam2,exam3,course_grade\\n\")\n",
    "        for row in cur:\n",
    "            row = list(row)\n",
    "            semester = row[0]\n",
    "            sex = row[1]\n",
    "            exam1 = row[2]\n",
    "            exam2 = row[3]\n",
    "            exam3 = row[4]\n",
    "            course_grade = row[5]\n",
    "\n",
    "            year, term = semester.split(\"-\", 1)\n",
    "            gender = \"Male\" if sex == \"Man\" else \"Female\"\n",
    "            new_row = [year, term, gender, exam1, exam2, exam3, course_grade]\n",
    "            f.write(\",\".join(str(cell) for cell in new_row) + \"\\n\")\n"
   ]
  },
  {
   "cell_type": "markdown",
   "id": "023662ce-c278-4404-9bfb-00cc7d537087",
   "metadata": {},
   "source": [
    "### Step 7 - Close the Connection to Postgres Database"
   ]
  },
  {
   "cell_type": "code",
   "execution_count": null,
   "id": "ec31c242-9b0c-4a6f-a825-ad22a304a6d6",
   "metadata": {},
   "outputs": [],
   "source": [
    "conn.close()"
   ]
  }
 ],
 "metadata": {
  "kernelspec": {
   "display_name": "Python 3 (ipykernel)",
   "language": "python",
   "name": "python3"
  },
  "language_info": {
   "codemirror_mode": {
    "name": "ipython",
    "version": 3
   },
   "file_extension": ".py",
   "mimetype": "text/x-python",
   "name": "python",
   "nbconvert_exporter": "python",
   "pygments_lexer": "ipython3",
   "version": "3.11.6"
  }
 },
 "nbformat": 4,
 "nbformat_minor": 5
}
